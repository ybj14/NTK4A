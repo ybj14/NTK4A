{
 "cells": [
  {
   "cell_type": "markdown",
   "metadata": {},
   "source": [
    "What does an infinitely wide neural network with batchnorm look like? We will calculate the [Neural Tangent Kernel](https://arxiv.org/abs/1806.07572) of a batchnorm-ReLU Multi-Layer Perceptron in this notebook, according to [our paper](https://arxiv.org/abs/2006.14548), so you can find out yourself!\n",
    "Other infinitely wide neural networks can be found in [the parent repo](https://github.com/thegregyang/NTK4A)."
   ]
  },
  {
   "cell_type": "code",
   "execution_count": null,
   "metadata": {},
   "outputs": [],
   "source": [
    "!pip install quadpy tqdm\n",
    "!git clone -q https://github.com/thegregyang/NTK4A\n",
    "%cd NTK4A/"
   ]
  },
  {
   "cell_type": "code",
   "execution_count": 1,
   "metadata": {
    "ExecuteTime": {
     "end_time": "2020-06-17T21:12:16.495319Z",
     "start_time": "2020-06-17T21:12:14.955041Z"
    }
   },
   "outputs": [],
   "source": [
    "import scipy as sp\n",
    "import numpy as np\n",
    "import quadpy as qp\n",
    "import torch\n",
    "import torchvision\n",
    "import torchvision.transforms as transforms\n",
    "from torch import nn\n",
    "from torch.autograd import Variable\n",
    "import matplotlib.pyplot as plt\n",
    "import seaborn as sns\n",
    "import pandas as pd\n",
    "from itertools import product\n",
    "from tqdm import tqdm\n",
    "sns.set()"
   ]
  },
  {
   "cell_type": "code",
   "execution_count": 2,
   "metadata": {
    "ExecuteTime": {
     "end_time": "2020-06-17T21:12:16.499714Z",
     "start_time": "2020-06-17T21:12:16.496889Z"
    }
   },
   "outputs": [],
   "source": [
    "from utils import Gmatrix, J1, VReLU, VStep, thVReLU, clone_grads, paramdot, flatten"
   ]
  },
  {
   "cell_type": "markdown",
   "metadata": {},
   "source": [
    "We will consider batchnorm with $B$ batch elements.\n",
    "Let $x_1, \\ldots, x_B \\in \\mathbb{R}^d$ be a batch of inputs.\n",
    "Let $\\widetilde{\\mathrm{relu}}: \\mathbb R^B \\to \\mathbb R^B$ denote batchnorm followed by ReLU.\n",
    "\n",
    "$$\\widetilde{\\mathrm{relu}}(z) = \\mathrm{relu}\\left(\\frac{z - \\mu}{\\sigma}\\right),\\quad\n",
    "\\text{where $\\mu = \\frac 1 B \\sum_{i=1}^B z_i$ and $\\sigma^2 = \\frac 1 B \\sum_{i=1}^B (z_i - \\mu)^2$}$$"
   ]
  },
  {
   "cell_type": "markdown",
   "metadata": {},
   "source": [
    "<img src=\"https://raw.githubusercontent.com/thegregyang/NTK4A/master/images/batchnormMLP.png\" width=600 />"
   ]
  },
  {
   "cell_type": "markdown",
   "metadata": {
    "heading_collapsed": true
   },
   "source": [
    "# Finite-Width Neural Network"
   ]
  },
  {
   "cell_type": "code",
   "execution_count": 3,
   "metadata": {
    "ExecuteTime": {
     "end_time": "2020-06-17T21:12:16.520060Z",
     "start_time": "2020-06-17T21:12:16.501553Z"
    },
    "hidden": true
   },
   "outputs": [],
   "source": [
    "class MyNet(nn.Module):\n",
    "    def __init__(self, nonlin=nn.ReLU, width=500, depth=2, inputdim=None, eps=0, initstyle='standard'):\n",
    "        super(MyNet, self).__init__()\n",
    "        self.nonlin = nonlin\n",
    "        self.width = width\n",
    "        self.depth = depth\n",
    "        self.params = nn.ParameterList()\n",
    "        self.BNs = nn.ModuleList()\n",
    "        self.nonlins = nn.ModuleList()\n",
    "        for i in range(depth):\n",
    "            if i == 0:\n",
    "                if inputdim is None:\n",
    "                    inputdim = width\n",
    "                if initstyle == 'standard':\n",
    "                    w = nn.Parameter(torch.randn(width, inputdim) / np.sqrt(inputdim))\n",
    "                                 \n",
    "                else:\n",
    "                    w = nn.Parameter(torch.randn(width, inputdim))\n",
    "            else:\n",
    "                if initstyle == 'standard':\n",
    "                    w = nn.Parameter(torch.randn(width, width) / np.sqrt(width))\n",
    "                else:\n",
    "                    w = nn.Parameter(torch.randn(width, width))\n",
    "            self.params.append(w)\n",
    "            self.BNs.append(nn.BatchNorm1d(width, eps=eps, momentum=None, affine=False, track_running_stats=False))\n",
    "            self.nonlins.append(nonlin())\n",
    "        self.readout = nn.Parameter(torch.randn(width))\n",
    "        self.xs = []\n",
    "        self.hs = []\n",
    "    def forward(self, x):\n",
    "        for i in range(self.depth):\n",
    "            w = self.params[i]\n",
    "            h = torch.einsum('ij,kj->ki', w, x)\n",
    "            h.retain_grad()\n",
    "            x = self.nonlins[i](self.BNs[i](h))\n",
    "            self.hs.append(h)\n",
    "            self.xs.append(x)\n",
    "        return x @ self.readout / np.sqrt(self.width)"
   ]
  },
  {
   "cell_type": "markdown",
   "metadata": {},
   "source": [
    "# Infinite-Width Neural Network"
   ]
  },
  {
   "cell_type": "markdown",
   "metadata": {},
   "source": [
    "We first detail how to propagate the covariances of activations and of gradients before describing how we can combine them to compute the NTK."
   ]
  },
  {
   "cell_type": "markdown",
   "metadata": {},
   "source": [
    "## Single Batch Forward Propagation"
   ]
  },
  {
   "cell_type": "markdown",
   "metadata": {},
   "source": [
    "<img src=\"https://raw.githubusercontent.com/thegregyang/NTK4A/master/images/BN_forward_singlebatch.png\" width=600 />"
   ]
  },
  {
   "cell_type": "markdown",
   "metadata": {},
   "source": [
    "We evaluate this integral by 1) reparametrizing exponentially and 2) eigendecomposition to be more efficient. See [this notebook for explanation](https://github.com/thegregyang/GP4A)."
   ]
  },
  {
   "cell_type": "code",
   "execution_count": 4,
   "metadata": {
    "ExecuteTime": {
     "end_time": "2020-06-17T21:12:16.543575Z",
     "start_time": "2020-06-17T21:12:16.521631Z"
    }
   },
   "outputs": [],
   "source": [
    "def VBNReLUIntegrandExp(Sigma):\n",
    "    '''Returns the integrand function of VBNRelU(Sigma), reparametrized exponentially\n",
    "    '''\n",
    "    B = Sigma.shape[0]\n",
    "    G = Gmatrix(B)\n",
    "    eigvals, eigvecs = np.linalg.eigh(G @ Sigma @ G)\n",
    "    # remove the 1st (smallest) eigenvalue, which is 0\n",
    "    logeigvals = np.log(eigvals[1:])\n",
    "    eigvecs = eigvecs[:, 1:]\n",
    "    def f(logs, logmultfactor=0, eps=1e-10):\n",
    "        # Ueigvals.shape = [..., B]\n",
    "        logUeigvals = np.logaddexp(0, np.log(2) + logs[..., None] + logeigvals)\n",
    "        # inteigvals.shape = [..., B]\n",
    "        loginteigvals = logeigvals - logUeigvals\n",
    "        # divide by sqrt(det)\n",
    "        loginteigvals -= 0.5 * np.sum(logUeigvals, axis=-1, keepdims=True)\n",
    "        loginteigvals += logmultfactor\n",
    "        inteigvals = np.exp(loginteigvals)\n",
    "        return VReLU(np.einsum('ij,...j,jk->...ik', eigvecs, inteigvals, eigvecs.T), eps)\n",
    "    return f\n",
    "def VBNReLU(Sigma, npos=10, nneg=10, alpha=1/8):\n",
    "    '''Computes BN+ReLU kernel for a single batch.\n",
    "    Inputs:\n",
    "        Sigma: input kernel (shape = batchsize x batchsize)\n",
    "        npos: number of points for integrating the big s side of the VBNReLU integral\n",
    "        nneg: number of points for integrating the small s side of the VBNReLU integral\n",
    "        alpha: reparametrize the integral by s = exp(alpha r)\n",
    "    Outputs:\n",
    "        VBNReLU(Sigma)\n",
    "    '''\n",
    "    schemepos = qp.e1r.gauss_laguerre(npos, alpha=0)\n",
    "    schemeneg = qp.e1r.gauss_laguerre(nneg, alpha=0)\n",
    "#     intargmax = VBNReLUIntegrandExpArgmax(Sigma).root\n",
    "    intargmax = 0\n",
    "    dim = Sigma.shape[0]\n",
    "    f = VBNReLUIntegrandExp(Sigma)\n",
    "    integrandpos = lambda xs: np.rollaxis(\n",
    "        np.rollaxis(\n",
    "            alpha * f(intargmax + alpha * xs,\n",
    "                logmultfactor=(intargmax + (1 + alpha) * xs)[..., None]),\n",
    "            2, 0),\n",
    "        3, 1)\n",
    "    integrandneg = lambda xs: np.rollaxis(\n",
    "        np.exp(intargmax) * np.rollaxis(f(intargmax - xs),\n",
    "            2, 0),\n",
    "        3, 1)\n",
    "    return dim * (\n",
    "        schemepos.integrate(integrandpos) + schemeneg.integrate(integrandneg)).squeeze(-1)\n"
   ]
  },
  {
   "cell_type": "markdown",
   "metadata": {},
   "source": [
    "## Single Batch Backward Propagation"
   ]
  },
  {
   "cell_type": "markdown",
   "metadata": {},
   "source": [
    "<img src=\"https://raw.githubusercontent.com/thegregyang/NTK4A/master/images/BN_backward_singlebatch1.png\" width=600 />"
   ]
  },
  {
   "cell_type": "markdown",
   "metadata": {},
   "source": [
    "<img src=\"https://raw.githubusercontent.com/thegregyang/NTK4A/master/images/BN_backward_singlebatch2.png\" width=600 />"
   ]
  },
  {
   "cell_type": "code",
   "execution_count": 5,
   "metadata": {
    "ExecuteTime": {
     "end_time": "2020-06-17T21:12:16.581303Z",
     "start_time": "2020-06-17T21:12:16.544959Z"
    }
   },
   "outputs": [],
   "source": [
    "def VBNReLUBackIntegrandExp(Sigma, Delta):\n",
    "    '''Returns the integrand function of VBNRelUBack(Sigma, Delta), reparametrized exponentially\n",
    "    '''\n",
    "    B = Sigma.shape[0]\n",
    "    G = Gmatrix(B)\n",
    "    eigvals, eigvecs = np.linalg.eigh(G @ Sigma @ G)\n",
    "    # remove the 1st (smallest) eigenvalue, which is 0\n",
    "    logeigvals = np.log(eigvals[1:])\n",
    "    eigvecs = eigvecs[:, 1:]\n",
    "    def f(logs, logmultfactor=0, eps=1e-10):\n",
    "        # Ueigvals.shape = [..., B]\n",
    "        logUeigvals = np.logaddexp(0, np.log(2) + logs[..., None] + logeigvals)\n",
    "        # inteigvals.shape = [..., B]\n",
    "        loginteigvals = logeigvals - logUeigvals\n",
    "        inteigvals = np.exp(loginteigvals)\n",
    "        K = np.einsum('ij,...j,jk->...ik', eigvecs, inteigvals, eigvecs.T)\n",
    "        \n",
    "        thK = torch.from_numpy(K)\n",
    "        thK.requires_grad = True\n",
    "        thReluK = thVReLU(thK, eps)\n",
    "        reluK = thReluK.data.numpy()\n",
    "        stepK = VStep(K)\n",
    "        \n",
    "        DeltaNewAx = torch.from_numpy(Delta)\n",
    "        DeltaNewAx = torch.broadcast_tensors(DeltaNewAx, thReluK)[0]\n",
    "        thReluK.backward(DeltaNewAx)\n",
    "        # shape [..., B, B]\n",
    "        J = thK.grad.numpy()\n",
    "        \n",
    "        Lambda1 = Delta * stepK\n",
    "        \n",
    "        # TODO possible speedup if reuse KJ to compute KJK\n",
    "        Lambda2 = 0.5 * np.exp(2 * logs)[..., None, None] * (\n",
    "            K * np.einsum('ij,...ij->...', Delta, reluK)[..., None, None]\n",
    "            + 2 * np.einsum('...ij,...jk,...kl->...il', K, J, K))\n",
    "        \n",
    "        Lambda3 = np.exp(logs)[..., None, None] * \\\n",
    "            np.einsum('...ij,...jk->...ik', K, J)\n",
    "        Lambda3 = Lambda3 + np.einsum('...ij->...ji', Lambda3)\n",
    "        \n",
    "        Lambda = Lambda1 + Lambda2 - Lambda3\n",
    "\n",
    "        # explicitly multiply by B and conjugate by G outside this fun\n",
    "        integrand = Lambda * np.exp(\n",
    "            # divide by sqrt(det)\n",
    "            logmultfactor - 0.5 * np.sum(logUeigvals, axis=-1, keepdims=True)\n",
    "        )[..., None]\n",
    "        \n",
    "        return integrand\n",
    "    return f\n",
    "\n",
    "def VBNReLUBack(Sigma, Delta, npos=10, nneg=10, alpha=1/4):\n",
    "    '''Computes Jacobian(BN+ReLU) kernel for a single batch.\n",
    "    Inputs:\n",
    "        Sigma: input kernel (shape = batchsize x batchsize)\n",
    "        Delta: gradient kernel (shape = batchsize x batchsize)\n",
    "        npos: number of points for integrating the big s side of the VBNReLU integral\n",
    "        nneg: number of points for integrating the small s side of the VBNReLU integral\n",
    "        alpha: reparametrize the integral by s = exp(alpha r)\n",
    "    Outputs:\n",
    "        VBNReLUBack(Sigma){Delta}\n",
    "    '''\n",
    "    schemepos = qp.e1r.gauss_laguerre(npos, alpha=0)\n",
    "    schemeneg = qp.e1r.gauss_laguerre(nneg, alpha=0)\n",
    "    intargmax = 0\n",
    "    dim = Sigma.shape[0]\n",
    "    f = VBNReLUBackIntegrandExp(Sigma, Delta)\n",
    "    integrandpos = lambda xs: np.rollaxis(\n",
    "        np.rollaxis(\n",
    "            alpha * f(intargmax + alpha * xs,\n",
    "                logmultfactor=(intargmax + (1 + alpha) * xs)[..., None]),\n",
    "            2, 0),\n",
    "        3, 1)\n",
    "    integrandneg = lambda xs: np.rollaxis(\n",
    "        np.exp(intargmax) * np.rollaxis(f(intargmax - xs),\n",
    "            2, 0),\n",
    "        3, 1)\n",
    "    out = dim * (\n",
    "        schemepos.integrate(integrandpos) + schemeneg.integrate(integrandneg)).squeeze(-1)\n",
    "    G = Gmatrix(dim)\n",
    "    return G @ out @ G"
   ]
  },
  {
   "cell_type": "markdown",
   "metadata": {},
   "source": [
    "## Cross Batch Forward Propagation"
   ]
  },
  {
   "cell_type": "markdown",
   "metadata": {},
   "source": [
    "<img src=\"https://raw.githubusercontent.com/thegregyang/NTK4A/master/images/BN_forward_crossbatch.png\" width=600 />"
   ]
  },
  {
   "cell_type": "markdown",
   "metadata": {},
   "source": [
    "Again, we evaluate this integral by 1) reparametrizing exponentially and 2) eigendecomposition to be more efficient. See [this notebook for explanation](https://github.com/thegregyang/GP4A)."
   ]
  },
  {
   "cell_type": "code",
   "execution_count": 6,
   "metadata": {
    "ExecuteTime": {
     "end_time": "2020-06-17T21:12:16.898570Z",
     "start_time": "2020-06-17T21:12:16.582664Z"
    }
   },
   "outputs": [],
   "source": [
    "def VBNReLUCrossBatchIntegrand(Xi, Sigma1, Sigma2):\n",
    "    '''Computes the off diagonal block of the BN+ReLU kernel over 2 batches\n",
    "    Input:\n",
    "        Xi: covariance between batch1 and batch2\n",
    "        Sigma1: autocovariance of batch1\n",
    "        Sigma2: autocovariance of batch2\n",
    "    Output:\n",
    "        f: integrand function in the integral for computing cross batch VBNReLU \n",
    "    '''\n",
    "    n1 = Sigma1.shape[0]\n",
    "    n2 = Sigma2.shape[0]\n",
    "    G1 = Gmatrix(n1)\n",
    "    G2 = Gmatrix(n2)\n",
    "    Delta1, A1 = np.linalg.eigh(G1 @ Sigma1 @ G1)\n",
    "    Delta2, A2 = np.linalg.eigh(G2 @ Sigma2 @ G2)\n",
    "    # kill first 0 eigenval\n",
    "    Delta1 = Delta1[1:]\n",
    "    Delta2 = Delta2[1:]\n",
    "    A1 = A1[:, 1:]\n",
    "    A2 = A2[:, 1:]\n",
    "    \n",
    "    Xidot = A1.T @ Xi @ A2\n",
    "    Omegadot = np.block([[np.diag(Delta1), Xidot], [Xidot.T, np.diag(Delta2)]])\n",
    "    Omegadotinv = np.linalg.inv(Omegadot)\n",
    "    \n",
    "    def f(s, t, multfactor=1):\n",
    "        # Ddot.shape = (..., n1+n2-2, n1+n2-2)\n",
    "        Ddot = s[..., None, None] * np.eye(n1-1+n2-1)\n",
    "        Ddot[..., np.arange(n1-1, n1+n2-2), np.arange(n1-1, n1+n2-2)] = t[..., None]\n",
    "        \n",
    "        ## Compute off-diagonal block of VReLU(Pi)\n",
    "        Pitilde = Omegadotinv + 2 * Ddot\n",
    "        Pitilde = np.linalg.inv(Pitilde)\n",
    "        Pi11diag = np.einsum('ij,...jk,ki->...i',\n",
    "                            A1,\n",
    "                            Pitilde[..., :n1-1, :n1-1],\n",
    "                            A1.T)\n",
    "        Pi22diag = np.einsum('ij,...jk,ki->...i',\n",
    "                            A2,\n",
    "                            Pitilde[..., n1-1:, n1-1:],\n",
    "                            A2.T)\n",
    "        Pi12 = np.einsum('ij,...jk,kl->...il',\n",
    "                        A1,\n",
    "                        Pitilde[..., :n1-1, n1-1:],\n",
    "                        A2.T)\n",
    "        C = J1(np.einsum('...i,...ij,...j->...ij',\n",
    "                        Pi11diag**-0.5,\n",
    "                        Pi12,\n",
    "                        Pi22diag**-0.5))\n",
    "        VReLUPi12 = 0.5 * np.einsum('...i,...ij,...j->...ij',\n",
    "                                Pi11diag**0.5,\n",
    "                                C,\n",
    "                                Pi22diag**0.5)\n",
    "        \n",
    "        ## Compute determinant\n",
    "        ind = np.arange(n1+n2-2)\n",
    "        # Ddot <- matrix inverse of Ddot\n",
    "        Ddot[..., ind, ind] = Ddot[..., ind, ind]**-1\n",
    "        logdet = np.linalg.slogdet(Ddot + 2 * Omegadot)[1]\n",
    "        return np.exp(\n",
    "                    (np.log(multfactor)\n",
    "                      + (-n1/2) * np.log(s)\n",
    "                      + (-n2/2) * np.log(t)\n",
    "                      - 1/2 * logdet)[..., None, None] + np.log(VReLUPi12))\n",
    "    return f\n",
    "\n",
    "def VBNReLUCrossBatch(Xi, Sigma1, Sigma2, npos=10, nneg=5,\n",
    "                      alphapos1=1/3, alphaneg1=1,\n",
    "                     alphapos2=1/3, alphaneg2=1):\n",
    "    '''Compute VBNReLU for two batches.\n",
    "    \n",
    "    Inputs:\n",
    "        Xi: covariance between batch1 and batch2\n",
    "        Sigma1: autocovariance of batch1\n",
    "        Sigma2: autocovariance of batch2\n",
    "        npos: number of points for integrating the big s side of the VBNReLU integral\n",
    "            (effective for both dimensions of integration)\n",
    "        nneg: number of points for integrating the small s side of the VBNReLU integral\n",
    "            (effective for both dimensions of integration)\n",
    "        alphapos1: reparametrize the large s integral by s = exp(alpha r) in the 1st dimension\n",
    "        alphaneg1: reparametrize the small s integral by s = exp(alpha r) in the 1st dimension\n",
    "        alphapos2: reparametrize the large s integral by s = exp(alpha r) in the 2nd dimension\n",
    "        alphaneg2: reparametrize the small s integral by s = exp(alpha r) in the 2nd dimension\n",
    "            By tuning the `alpha` parameters, the integrand is closer to being well-approximated by \n",
    "            low-degree Laguerre polynomials, which makes the quadrature more accurate in approximating the integral.\n",
    "    Outputs:\n",
    "        The (batch1, batch2) block of block matrix obtained by\n",
    "        applying VBNReLU^{\\oplus 2} to the kernel of batch1 and batch2\n",
    "    '''\n",
    "    # We will do the integration explicitly ourselves:\n",
    "    #     We obtain sample points and weights via `quadpy`'s Gauss Laguerre quadrature\n",
    "    #     and do the sum ourselves\n",
    "    schemepos = qp.e1r.gauss_laguerre(npos, alpha=0)\n",
    "    schemeneg = qp.e1r.gauss_laguerre(nneg, alpha=0)\n",
    "    dim1 = Sigma1.shape[0]\n",
    "    dim2 = Sigma2.shape[0]\n",
    "    intargmax = (-np.log(2*(dim1-1)), -np.log(2*(dim2-1)))\n",
    "    f = VBNReLUCrossBatchIntegrand(Xi, Sigma1, Sigma2)\n",
    "    # Get the points manually for each dimension\n",
    "    scheme1dpoints = np.concatenate([schemepos.points, -schemeneg.points])\n",
    "    # Get the weights manually for each dimension\n",
    "    scheme1dwts = np.concatenate([schemepos.weights, schemeneg.weights])\n",
    "    # Obtain the points for the whole 2d integration\n",
    "    scheme2dpoints = np.meshgrid(scheme1dpoints, scheme1dpoints)\n",
    "    # Obtain the weights for the whole 2d integration\n",
    "    scheme2dwts = scheme1dwts[:, None] * scheme1dwts[None, :]\n",
    "\n",
    "    def applyalpha(x, alphapos, alphaneg):\n",
    "        xx = np.copy(x)\n",
    "        xx[xx > 0] *= alphapos\n",
    "        xx[xx <= 0] *= alphaneg\n",
    "        return xx\n",
    "    def alphafactor(x, y):\n",
    "        a = np.zeros_like(x)\n",
    "        a[(x > 0) & (y > 0)] = alphapos1 * alphapos2\n",
    "        a[(x > 0) & (y <= 0)] = alphapos1 * alphaneg2\n",
    "        a[(x <= 0) & (y > 0)] = alphaneg1 * alphapos2\n",
    "        a[(x <= 0) & (y <= 0)] = alphaneg1 * alphaneg2\n",
    "        return a\n",
    "        \n",
    "    integrand = lambda inp: \\\n",
    "        f(np.exp(applyalpha(inp[0], alphapos1, alphaneg1) + intargmax[0]), \n",
    "          np.exp(applyalpha(inp[1], alphapos2, alphaneg2) + intargmax[1]),\n",
    "          multfactor=alphafactor(inp[0], inp[1])\n",
    "              * np.pi**-1\n",
    "              * np.exp(applyalpha(inp[0], alphapos1, alphaneg1) + intargmax[0]\n",
    "                     + applyalpha(inp[1], alphapos2, alphaneg2) + intargmax[1]\n",
    "                     + np.abs(inp[0]) + np.abs(inp[1])\n",
    "                      )\n",
    "         )\n",
    "\n",
    "    return np.sqrt(dim1 * dim2) * np.einsum('ij...,ij->...',\n",
    "              integrand(scheme2dpoints),\n",
    "              scheme2dwts\n",
    "             )\n"
   ]
  },
  {
   "cell_type": "markdown",
   "metadata": {},
   "source": [
    "## Cross Batch Backward Propagation"
   ]
  },
  {
   "cell_type": "markdown",
   "metadata": {},
   "source": [
    "<img src=\"https://raw.githubusercontent.com/thegregyang/NTK4A/master/images/BN_backward_crossbatch.png\" width=600 />"
   ]
  },
  {
   "cell_type": "code",
   "execution_count": 7,
   "metadata": {
    "ExecuteTime": {
     "end_time": "2020-06-17T21:12:17.069239Z",
     "start_time": "2020-06-17T21:12:16.900077Z"
    }
   },
   "outputs": [],
   "source": [
    "def VBNReLUBackCrossBatchIntegrand(Xi, Sigma1, Sigma2, Chi):\n",
    "    '''Computes the off diagonal block of the Jacobian(BN+ReLU) kernel over 2 batches\n",
    "    Input:\n",
    "        Xi: covariance between batch1 and batch2\n",
    "        Sigma1: autocovariance of batch1\n",
    "        Sigma2: autocovariance of batch2\n",
    "        Chi: covariance of gradients btw batch1 and batch2\n",
    "    Output:\n",
    "        f: integrand function in the integral for computing cross batch VBNReLUBack\n",
    "    '''\n",
    "    n1 = Sigma1.shape[0]\n",
    "    n2 = Sigma2.shape[0]\n",
    "    G1 = Gmatrix(n1)\n",
    "    G2 = Gmatrix(n2)\n",
    "    Delta1, A1 = np.linalg.eigh(G1 @ Sigma1 @ G1)\n",
    "    Delta2, A2 = np.linalg.eigh(G2 @ Sigma2 @ G2)\n",
    "    # kill first 0 eigenval\n",
    "    Delta1 = Delta1[1:]\n",
    "    Delta2 = Delta2[1:]\n",
    "    A1 = A1[:, 1:]\n",
    "    A2 = A2[:, 1:]\n",
    "    A = np.block([[A1, np.zeros([n1, n2-1])], [np.zeros([n2, n1-1]), A2]])\n",
    "    ChiSym = np.block([[np.zeros([n1, n1]), Chi],\n",
    "                       [Chi.T, np.zeros([n2, n2])]])\n",
    "    \n",
    "    Xidot = A1.T @ Xi @ A2\n",
    "    Omegadot = np.block([[np.diag(Delta1), Xidot], [Xidot.T, np.diag(Delta2)]])\n",
    "    Omegadotinv = np.linalg.inv(Omegadot)\n",
    "    \n",
    "    def f(s, t, multfactor=1):\n",
    "        ss = s[..., None, None]\n",
    "        tt = t[..., None, None]\n",
    "        # Ddot.shape = (..., n1+n2-2, n1+n2-2)\n",
    "        Ddot = ss * np.eye(n1-1+n2-1)\n",
    "        Ddot[..., np.arange(n1-1, n1+n2-2), np.arange(n1-1, n1+n2-2)] = t[..., None]\n",
    "        \n",
    "        ## Compute off-diagonal block of VReLU(Pi)\n",
    "        Pitilde = Omegadotinv + 2 * Ddot\n",
    "        Pitilde = np.linalg.inv(Pitilde)\n",
    "        Pi = np.einsum('ij,...jk,kl->...il', A, Pitilde, A.T)\n",
    "        \n",
    "        stepPi = VStep(Pi)\n",
    "        thPi = torch.from_numpy(Pi)\n",
    "        thPi.requires_grad = True\n",
    "        thReluPi = thVReLU(thPi)\n",
    "        # shape (..., n1+n2, n1+n2)\n",
    "        reluPi = thReluPi.detach().numpy()\n",
    "        thChiSym = torch.from_numpy(ChiSym)\n",
    "        thChiSym = torch.broadcast_tensors(thChiSym, thReluPi)\n",
    "        thReluPi.backward(thChiSym)\n",
    "        # shape (..., n1+n2, n1+n2)\n",
    "        J = thPi.grad.numpy()\n",
    "\n",
    "        Gamma1 = Chi * stepPi[..., :n1, n1:]\n",
    "        \n",
    "        # < reluPi, ChiSym > * Pi\n",
    "        Gamma2a = 2 * np.einsum(\n",
    "            '...ij,ij,...kl->...kl',\n",
    "            reluPi[..., :n1, n1:], Chi, Pi[..., :n1, n1:]\n",
    "        )\n",
    "        Gamma2b = 2 * np.einsum(\n",
    "            '...ij,...jk,...kl->...il',\n",
    "            Pi, J, Pi\n",
    "        )\n",
    "        Gamma2b = Gamma2b[..., :n1, n1:]\n",
    "        Gamma2 = 2 * ss * tt * (Gamma2a + Gamma2b)\n",
    "        \n",
    "        # t * J * Pi\n",
    "        JPi = np.einsum(\n",
    "            '...ij,...jk->...ik',\n",
    "            J, Pi\n",
    "        )\n",
    "        Gamma3 = tt * JPi[..., :n1, n1:] + \\\n",
    "                ss * np.einsum(\n",
    "                    '...ij->...ji',\n",
    "                    JPi[..., n1:, :n1]\n",
    "                )\n",
    "        Gamma3 *= 2\n",
    "        \n",
    "        Gamma = Gamma1 + Gamma2 - Gamma3\n",
    "        \n",
    "        ## Compute determinant\n",
    "        ind = np.arange(n1+n2-2)\n",
    "        # Ddot <- matrix inverse of Ddot\n",
    "        Ddot[..., ind, ind] = Ddot[..., ind, ind]**-1\n",
    "        logdet = np.linalg.slogdet(Ddot + 2 * Omegadot)[1]\n",
    "        return np.exp(\n",
    "                    (np.log(multfactor)\n",
    "                      + (-n1/2) * np.log(s)\n",
    "                      + (-n2/2) * np.log(t)\n",
    "                      - 1/2 * logdet)[..., None, None]) \\\n",
    "            * Gamma\n",
    "    return f\n",
    "\n",
    "def VBNReLUBackCrossBatch(Xi, Sigma1, Sigma2, Chi, npos=10, nneg=5,\n",
    "                      alphapos1=1/3, alphaneg1=1,\n",
    "                     alphapos2=1/3, alphaneg2=1):\n",
    "    '''Compute the Jacobian(BN+ReLU) kernel for covariance btw two batches.\n",
    "    \n",
    "    Inputs:\n",
    "        Xi: covariance between batch1 and batch2\n",
    "        Sigma1: autocovariance of batch1\n",
    "        Sigma2: autocovariance of batch2\n",
    "        Chi: covariance of gradients btw batch1 and batch2\n",
    "        npos: number of points for integrating the big s side of the VBNReLU integral\n",
    "            (effective for both dimensions of integration)\n",
    "        nneg: number of points for integrating the small s side of the VBNReLU integral\n",
    "            (effective for both dimensions of integration)\n",
    "        alphapos1: reparametrize the large s integral by s = exp(alpha r) in the 1st dimension\n",
    "        alphaneg1: reparametrize the small s integral by s = exp(alpha r) in the 1st dimension\n",
    "        alphapos2: reparametrize the large s integral by s = exp(alpha r) in the 2nd dimension\n",
    "        alphaneg2: reparametrize the small s integral by s = exp(alpha r) in the 2nd dimension\n",
    "            By tuning the `alpha` parameters, the integrand is closer to being well-approximated by \n",
    "            low-degree Laguerre polynomials, which makes the quadrature more accurate in approximating the integral.\n",
    "    Outputs:\n",
    "        array of shape (batchsize1, batchsize2) that describes\n",
    "        the covariance of the gradients btw batch1 and batch2\n",
    "        after backprop through BN+ReLU\n",
    "    '''\n",
    "    # We will do the integration explicitly ourselves:\n",
    "    #     We obtain sample points and weights via `quadpy`'s Gauss Laguerre quadrature\n",
    "    #     and do the sum ourselves\n",
    "    schemepos = qp.e1r.gauss_laguerre(npos, alpha=0)\n",
    "    schemeneg = qp.e1r.gauss_laguerre(nneg, alpha=0)\n",
    "    dim1 = Sigma1.shape[0]\n",
    "    dim2 = Sigma2.shape[0]\n",
    "    intargmax = (-np.log(2*(dim1-1)), -np.log(2*(dim2-1)))\n",
    "    f = VBNReLUBackCrossBatchIntegrand(Xi, Sigma1, Sigma2, Chi)\n",
    "    # Get the points manually for each dimension\n",
    "    scheme1dpoints = np.concatenate([schemepos.points, -schemeneg.points])\n",
    "    # Get the weights manually for each dimension\n",
    "    scheme1dwts = np.concatenate([schemepos.weights, schemeneg.weights])\n",
    "    # Obtain the points for the whole 2d integration\n",
    "    scheme2dpoints = np.meshgrid(scheme1dpoints, scheme1dpoints)\n",
    "    # Obtain the weights for the whole 2d integration\n",
    "    scheme2dwts = scheme1dwts[:, None] * scheme1dwts[None, :]\n",
    "\n",
    "    def applyalpha(x, alphapos, alphaneg):\n",
    "        xx = np.copy(x)\n",
    "        xx[xx > 0] *= alphapos\n",
    "        xx[xx <= 0] *= alphaneg\n",
    "        return xx\n",
    "    def alphafactor(x, y):\n",
    "        a = np.zeros_like(x)\n",
    "        a[(x > 0) & (y > 0)] = alphapos1 * alphapos2\n",
    "        a[(x > 0) & (y <= 0)] = alphapos1 * alphaneg2\n",
    "        a[(x <= 0) & (y > 0)] = alphaneg1 * alphapos2\n",
    "        a[(x <= 0) & (y <= 0)] = alphaneg1 * alphaneg2\n",
    "        return a\n",
    "        \n",
    "    integrand = lambda inp: \\\n",
    "        f(np.exp(applyalpha(inp[0], alphapos1, alphaneg1) + intargmax[0]), \n",
    "          np.exp(applyalpha(inp[1], alphapos2, alphaneg2) + intargmax[1]),\n",
    "          multfactor=alphafactor(inp[0], inp[1])\n",
    "              * np.pi**-1\n",
    "              * np.exp(applyalpha(inp[0], alphapos1, alphaneg1) + intargmax[0]\n",
    "                     + applyalpha(inp[1], alphapos2, alphaneg2) + intargmax[1]\n",
    "                     + np.abs(inp[0]) + np.abs(inp[1])\n",
    "                      )\n",
    "         )\n",
    "\n",
    "    out = np.sqrt(dim1 * dim2) * np.einsum('ij...,ij->...',\n",
    "              integrand(scheme2dpoints),\n",
    "              scheme2dwts\n",
    "             )\n",
    "    G1 = Gmatrix(dim1)\n",
    "    G2 = Gmatrix(dim2)\n",
    "    return G1 @ out @ G2"
   ]
  },
  {
   "cell_type": "markdown",
   "metadata": {},
   "source": [
    "## NTK"
   ]
  },
  {
   "cell_type": "markdown",
   "metadata": {},
   "source": [
    "<img src=\"https://raw.githubusercontent.com/thegregyang/NTK4A/master/images/BN_NTK_singlebatch.png\" width=600 />"
   ]
  },
  {
   "cell_type": "markdown",
   "metadata": {},
   "source": [
    "<img src=\"https://raw.githubusercontent.com/thegregyang/NTK4A/master/images/BN_NTK_crossbatch.png\" width=600 />"
   ]
  },
  {
   "cell_type": "code",
   "execution_count": 8,
   "metadata": {
    "ExecuteTime": {
     "end_time": "2020-06-17T21:12:17.222758Z",
     "start_time": "2020-06-17T21:12:17.071302Z"
    }
   },
   "outputs": [],
   "source": [
    "def theorykernels(mykerx, myker1, myker2, depth):\n",
    "    n1 = myker1.shape[0]\n",
    "    n2 = myker2.shape[0]\n",
    "    \n",
    "    ker1s = [myker1]\n",
    "    ker2s = [myker2]\n",
    "    kerxs = [mykerx]\n",
    "    for i in range(depth):\n",
    "        kerxs.append(VBNReLUCrossBatch(kerxs[-1], ker1s[-1], ker2s[-1]))\n",
    "        ker1s.append(VBNReLU(ker1s[-1]))\n",
    "        ker2s.append(VBNReLU(ker2s[-1]))\n",
    "        \n",
    "    def make_single_batch_ntk(kers):\n",
    "        n = kers[0].shape[0]\n",
    "        ntk = np.zeros([n, n])\n",
    "        for i in range(n):\n",
    "            for j in range(i+1):\n",
    "                Deltas = [np.zeros([n, n])]\n",
    "                Deltas[-1][i, j] = Deltas[-1][j, i] = 1\n",
    "                if i != j:\n",
    "                    Deltas[-1] /= 2\n",
    "                for l in range(depth):\n",
    "                    Deltas.append(\n",
    "                        VBNReLUBack(kers[depth-l-1], Deltas[-1])\n",
    "                    )\n",
    "                for l in range(len(kers)):\n",
    "                    ntk[i, j] += (kers[l].reshape(-1)\n",
    "                                   @ Deltas[-1-l].reshape(-1))\n",
    "                ntk[j, i] = ntk[i, j]\n",
    "        return ntk\n",
    "    \n",
    "    ntk1 = make_single_batch_ntk(ker1s)\n",
    "    ntk2 = make_single_batch_ntk(ker2s)\n",
    "    \n",
    "    ntkx = np.zeros([n1, n2])\n",
    "    for i in range(n1):\n",
    "        for j in range(n2):\n",
    "            Deltas = [np.zeros([n1, n2])]\n",
    "            Deltas[-1][i, j] = 1\n",
    "            for l in range(depth):\n",
    "                Deltas.append(\n",
    "                    VBNReLUBackCrossBatch(\n",
    "                        kerxs[depth-l-1], ker1s[depth-l-1], ker2s[depth-l-1],\n",
    "                        Deltas[-1])\n",
    "                )\n",
    "            for l in range(len(kerxs)):\n",
    "                ntkx[i, j] += (kerxs[l].reshape(-1)\n",
    "                               @ Deltas[-1-l].reshape(-1))\n",
    "        \n",
    "    return dict(\n",
    "        ker1s=ker1s,\n",
    "        ker2s=ker2s,\n",
    "        kerxs=kerxs,\n",
    "        ntk1=ntk1,\n",
    "        ntk2=ntk2,\n",
    "        ntkx=ntkx\n",
    "    )"
   ]
  },
  {
   "cell_type": "markdown",
   "metadata": {},
   "source": [
    "# Theory vs Simulation"
   ]
  },
  {
   "cell_type": "markdown",
   "metadata": {},
   "source": [
    "We verify that as width increases, the empirical finite-width NTK converges to the theoretical infinite-width NTK."
   ]
  },
  {
   "cell_type": "markdown",
   "metadata": {},
   "source": [
    "## Code"
   ]
  },
  {
   "cell_type": "code",
   "execution_count": 9,
   "metadata": {
    "ExecuteTime": {
     "end_time": "2020-06-17T21:12:17.322662Z",
     "start_time": "2020-06-17T21:12:17.224449Z"
    }
   },
   "outputs": [],
   "source": [
    "def simkernels(myinp1, myinp2, mynet):\n",
    "    mynet.zero_grad()\n",
    "    mynet.hs = []\n",
    "    out2 = mynet(myinp2)\n",
    "    out2.backward(torch.ones_like(out2))\n",
    "    gg2 = mynet.hs[0].grad.clone()\n",
    "\n",
    "    mynet.zero_grad()\n",
    "    mynet.hs = []\n",
    "    out1 = mynet(myinp1)\n",
    "    out1.backward(torch.ones_like(out1))\n",
    "    gg1 = mynet.hs[0].grad.clone()\n",
    "\n",
    "\n",
    "    hdelta1 = gg1 @ gg1.T # / gg1.shape[1]\n",
    "    hdelta2 = gg2 @ gg2.T # / gg1.shape[1]\n",
    "    hdeltax = gg1 @ gg2.T # / gg1.shape[1]\n",
    "    return [c.detach().numpy() for c in [hdeltax, hdelta1, hdelta2]]"
   ]
  },
  {
   "cell_type": "code",
   "execution_count": 10,
   "metadata": {
    "ExecuteTime": {
     "end_time": "2020-06-17T21:12:17.502486Z",
     "start_time": "2020-06-17T21:12:17.323949Z"
    }
   },
   "outputs": [],
   "source": [
    "def simNTK(myinp1, myinp2, mynet):\n",
    "    n1 = myinp1.shape[0]\n",
    "    n2 = myinp2.shape[0]\n",
    "    \n",
    "    if isinstance(myinp1, np.ndarray):\n",
    "        myinp1 = torch.from_numpy(myinp1).float()\n",
    "    if isinstance(myinp2, np.ndarray):\n",
    "        myinp2 = torch.from_numpy(myinp2).float()\n",
    "    \n",
    "    ggs = []\n",
    "    for batch in [myinp1, myinp2]:\n",
    "        gs = []\n",
    "        mynet.zero_grad()\n",
    "        out = mynet(batch)\n",
    "        for i in range(len(batch)):\n",
    "            mynet.zero_grad()\n",
    "            outgrad = torch.zeros_like(out)\n",
    "            outgrad[i] = 1\n",
    "            out.backward(outgrad, retain_graph=True)\n",
    "            g = flatten(clone_grads(mynet))\n",
    "            gs.append(g)\n",
    "        ggs.append(torch.stack(gs))\n",
    "    \n",
    "    ntk1 = ggs[0] @ ggs[0].T\n",
    "    ntk2 = ggs[1] @ ggs[1].T\n",
    "    ntkx = ggs[0] @ ggs[1].T\n",
    "    \n",
    "    return [c.detach().numpy() for c in [ntkx, ntk1, ntk2]]"
   ]
  },
  {
   "cell_type": "code",
   "execution_count": 11,
   "metadata": {
    "ExecuteTime": {
     "end_time": "2020-06-17T21:12:17.627548Z",
     "start_time": "2020-06-17T21:12:17.504003Z"
    }
   },
   "outputs": [],
   "source": [
    "def NTK_theory_vs_sim(myinp1, myinp2, \n",
    "                    theorykerx, theoryker1, theoryker2,\n",
    "                    depth,\n",
    "                    mode='ntk',\n",
    "                    log2widthmin=6, log2widthmax=14, nseeds=10):\n",
    "    if isinstance(myinp1, np.ndarray):\n",
    "        myinp1 = torch.from_numpy(myinp1).float()\n",
    "    if isinstance(myinp2, np.ndarray):\n",
    "        myinp2 = torch.from_numpy(myinp2).float()\n",
    "    inputdim = myinp1.shape[-1]\n",
    "    theorynorm1 = np.linalg.norm(theoryker1)\n",
    "    theorynorm2 = np.linalg.norm(theoryker2)\n",
    "    theorynormx = np.linalg.norm(theorykerx)\n",
    "    theorynorm = np.sqrt(theorynorm1**2 + theorynorm2**2 + 2 * theorynormx**2)\n",
    "    frobs = []\n",
    "    widths = 2**np.arange(log2widthmin, log2widthmax)\n",
    "    for width, seed in tqdm(list(product(widths, range(nseeds)))):\n",
    "        torch.manual_seed(seed)\n",
    "        mynet = MyNet(depth=depth, inputdim=inputdim, width=width,\n",
    "                     initstyle=mode.lower())\n",
    "\n",
    "        if mode.lower() == 'ntk':\n",
    "            hdeltax, hdelta1, hdelta2 = simNTK(myinp1, myinp2, mynet)\n",
    "        else:\n",
    "            hdeltax, hdelta1, hdelta2 = simkernels(myinp1, myinp2, mynet)\n",
    "\n",
    "        frob1 = np.linalg.norm(hdelta1 - theoryker1)\n",
    "        frob2 = np.linalg.norm(hdelta2 - theoryker2)\n",
    "        frobx = np.linalg.norm(hdeltax - theorykerx)\n",
    "        frob = np.sqrt(frob1**2 + frob2**2 + 2 * frobx**2)\n",
    "\n",
    "        frobs.append(dict(\n",
    "            width=width,\n",
    "            frob1=frob1,\n",
    "            frob2=frob2,\n",
    "            frobx=frobx,\n",
    "            frob=frob,\n",
    "            relfrob1=frob1/theorynorm1,\n",
    "            relfrob2=frob2/theorynorm2,\n",
    "            relfrobx=frobx/theorynormx,\n",
    "            relfrob=frob/theorynorm,\n",
    "            theorynorm1=theorynorm1,\n",
    "            theorynorm2=theorynorm2,\n",
    "            theorynormx=theorynormx,\n",
    "        ))\n",
    "    return pd.DataFrame(frobs)"
   ]
  },
  {
   "cell_type": "markdown",
   "metadata": {
    "heading_collapsed": true
   },
   "source": [
    "## Data"
   ]
  },
  {
   "cell_type": "code",
   "execution_count": 12,
   "metadata": {
    "ExecuteTime": {
     "end_time": "2020-06-17T21:12:18.530812Z",
     "start_time": "2020-06-17T21:12:17.629168Z"
    },
    "hidden": true
   },
   "outputs": [
    {
     "name": "stdout",
     "output_type": "stream",
     "text": [
      "Files already downloaded and verified\n"
     ]
    }
   ],
   "source": [
    "transform = transforms.Compose(\n",
    "    [transforms.ToTensor(),\n",
    "     transforms.Normalize((0.5, 0.5, 0.5), (0.5, 0.5, 0.5))])\n",
    "\n",
    "trainset = torchvision.datasets.CIFAR10(root='./data', train=True,\n",
    "                                        download=True, transform=transform)"
   ]
  },
  {
   "cell_type": "code",
   "execution_count": 13,
   "metadata": {
    "ExecuteTime": {
     "end_time": "2020-06-17T21:12:18.535380Z",
     "start_time": "2020-06-17T21:12:18.532392Z"
    },
    "hidden": true
   },
   "outputs": [],
   "source": [
    "nsamples = 12\n",
    "n1 = 7\n",
    "n2 = 5\n",
    "inpdim = nsamples + 1\n",
    "olddim = 3 * 32 * 32"
   ]
  },
  {
   "cell_type": "code",
   "execution_count": 14,
   "metadata": {
    "ExecuteTime": {
     "end_time": "2020-06-17T21:12:29.173241Z",
     "start_time": "2020-06-17T21:12:18.536680Z"
    },
    "hidden": true
   },
   "outputs": [],
   "source": [
    "myimages = list(trainset)[:nsamples]\n",
    "myimages = np.array([im[0].numpy() for im in myimages])"
   ]
  },
  {
   "cell_type": "code",
   "execution_count": 15,
   "metadata": {
    "ExecuteTime": {
     "end_time": "2020-06-17T21:12:29.178826Z",
     "start_time": "2020-06-17T21:12:29.174665Z"
    },
    "hidden": true
   },
   "outputs": [],
   "source": [
    "myimagesproj = myimages.reshape(nsamples, -1) @ \\\n",
    "            np.random.randn(olddim, inpdim) / np.sqrt(olddim)"
   ]
  },
  {
   "cell_type": "code",
   "execution_count": 16,
   "metadata": {
    "ExecuteTime": {
     "end_time": "2020-06-17T21:12:29.218845Z",
     "start_time": "2020-06-17T21:12:29.180178Z"
    },
    "hidden": true
   },
   "outputs": [],
   "source": [
    "inker = myimagesproj.reshape(nsamples, -1) @ \\\n",
    "        myimagesproj.reshape(nsamples, -1).T / inpdim"
   ]
  },
  {
   "cell_type": "markdown",
   "metadata": {},
   "source": [
    "## How much does finite-width NTK deviate from the infinite-width NTK?"
   ]
  },
  {
   "cell_type": "code",
   "execution_count": 17,
   "metadata": {
    "ExecuteTime": {
     "end_time": "2020-06-17T21:12:29.270472Z",
     "start_time": "2020-06-17T21:12:29.220236Z"
    }
   },
   "outputs": [],
   "source": [
    "depth=1"
   ]
  },
  {
   "cell_type": "code",
   "execution_count": 18,
   "metadata": {
    "ExecuteTime": {
     "end_time": "2020-06-17T21:12:31.687029Z",
     "start_time": "2020-06-17T21:12:29.271733Z"
    }
   },
   "outputs": [],
   "source": [
    "inf_kers = theorykernels(\n",
    "    inker[:n1, n1:], inker[:n1, :n1], inker[n1:, n1:], depth=depth)"
   ]
  },
  {
   "cell_type": "code",
   "execution_count": 19,
   "metadata": {
    "ExecuteTime": {
     "end_time": "2020-06-17T21:14:41.118032Z",
     "start_time": "2020-06-17T21:12:31.691748Z"
    }
   },
   "outputs": [
    {
     "name": "stderr",
     "output_type": "stream",
     "text": [
      "100%|██████████| 800/800 [02:09<00:00,  6.18it/s]\n"
     ]
    }
   ],
   "source": [
    "frob_df = NTK_theory_vs_sim(\n",
    "    myimagesproj[:n1], myimagesproj[n1:],\n",
    "    inf_kers['ntkx'], inf_kers['ntk1'], inf_kers['ntk2'],\n",
    "    depth=depth,\n",
    "    log2widthmax=14, nseeds=100,\n",
    ")"
   ]
  },
  {
   "cell_type": "markdown",
   "metadata": {},
   "source": [
    "We measured the relative Frobenius norm of the finite-width deviation = $\\|\\Theta - \\mathring \\Theta\\|_F / \\|\\mathring \\Theta\\|_F$, where $\\Theta$ and $\\mathring \\Theta$ are resp. the finite (empirical) and infinite-width (theoretical) NTKs."
   ]
  },
  {
   "cell_type": "code",
   "execution_count": 20,
   "metadata": {
    "ExecuteTime": {
     "end_time": "2020-06-17T21:14:42.560347Z",
     "start_time": "2020-06-17T21:14:41.119392Z"
    }
   },
   "outputs": [
    {
     "data": {
      "image/png": "[encoded data removed]",
      "text/plain": [
       "<Figure size 432x288 with 1 Axes>"
      ]
     },
     "metadata": {},
     "output_type": "display_data"
    }
   ],
   "source": [
    "sns.lineplot(data=frob_df, x='width', y='relfrob')\n",
    "widths = frob_df.width.unique()\n",
    "plt.plot(widths, np.array(widths, dtype='float')**-0.5, '--', label=u'${width}^{-1/2}$')\n",
    "plt.ylabel(u'Relative Frob. Norm')\n",
    "plt.loglog()\n",
    "plt.legend()\n",
    "_ = plt.title(u'Batchnorm NTK\\nDeviation from theory drops like $width^{-1/2}$')"
   ]
  },
  {
   "cell_type": "code",
   "execution_count": 21,
   "metadata": {
    "ExecuteTime": {
     "end_time": "2020-06-17T21:14:42.566311Z",
     "start_time": "2020-06-17T21:14:42.562151Z"
    }
   },
   "outputs": [],
   "source": [
    "frob_df.to_pickle('batchnorm_ntk.frob')"
   ]
  }
 ],
 "metadata": {
  "kernelspec": {
   "display_name": "Python 3",
   "language": "python",
   "name": "python3"
  },
  "language_info": {
   "codemirror_mode": {
    "name": "ipython",
    "version": 3
   },
   "file_extension": ".py",
   "mimetype": "text/x-python",
   "name": "python",
   "nbconvert_exporter": "python",
   "pygments_lexer": "ipython3",
   "version": "3.7.2"
  }
 },
 "nbformat": 4,
 "nbformat_minor": 4
}
