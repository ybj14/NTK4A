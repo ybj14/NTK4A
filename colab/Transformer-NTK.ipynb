{
 "cells": [
  {
   "cell_type": "markdown",
   "metadata": {},
   "source": [
    "What does an infinitely wide transformer look like? We will calculate its [Neural Tangent Kernel](https://arxiv.org/abs/1806.07572) in this notebook, according to [our paper](https://arxiv.org/abs/2006.14548), so you can find out yourself!\n",
    "Other infinitely wide neural networks can be found in [the parent repo](https://github.com/thegregyang/NTK4A)."
   ]
  },
  {
   "cell_type": "code",
   "execution_count": 1,
   "metadata": {
    "ExecuteTime": {
     "end_time": "2020-06-14T17:29:31.347662Z",
     "start_time": "2020-06-14T17:29:31.336049Z"
    }
   },
   "outputs": [],
   "source": [
    "!git clone -q https://github.com/thegregyang/NTK4A\n",
    "%cd NTK4A/"
   ]
  },
  {
   "cell_type": "code",
   "execution_count": 2,
   "metadata": {
    "ExecuteTime": {
     "end_time": "2020-06-14T17:29:32.457055Z",
     "start_time": "2020-06-14T17:29:31.356451Z"
    }
   },
   "outputs": [],
   "source": [
    "import numpy as np\n",
    "import torch\n",
    "from torch import nn\n",
    "import torchvision\n",
    "import torchvision.transforms as transforms\n",
    "import matplotlib.pyplot as plt\n",
    "import pandas as pd\n",
    "import seaborn as sns\n",
    "import scipy as sp\n",
    "from itertools import product\n",
    "from tqdm import tqdm\n",
    "sns.set()"
   ]
  },
  {
   "cell_type": "code",
   "execution_count": 3,
   "metadata": {
    "ExecuteTime": {
     "end_time": "2020-06-14T17:29:32.473912Z",
     "start_time": "2020-06-14T17:29:32.458780Z"
    }
   },
   "outputs": [],
   "source": [
    "from utils import VReLU, VStep, paramdot, clone_grads, getCor"
   ]
  },
  {
   "cell_type": "markdown",
   "metadata": {},
   "source": [
    "<img src=\"https://raw.githubusercontent.com/thegregyang/NTK4A/master/images/transformer.png\" width=600 />"
   ]
  },
  {
   "cell_type": "markdown",
   "metadata": {},
   "source": [
    "<img src=\"https://raw.githubusercontent.com/thegregyang/NTK4A/master/images/transformer_setup.png\" width=600 />"
   ]
  },
  {
   "cell_type": "markdown",
   "metadata": {},
   "source": [
    "We will use the attention with key-query scaling $1/d_{head} = 1/n$ instead of $1/\\sqrt{d_{head}}$."
   ]
  },
  {
   "cell_type": "markdown",
   "metadata": {},
   "source": [
    "<img src=\"https://raw.githubusercontent.com/thegregyang/NTK4A/master/images/attention.png\" width=600 />"
   ]
  },
  {
   "cell_type": "markdown",
   "metadata": {},
   "source": [
    "# Finite-Width Neural Network"
   ]
  },
  {
   "cell_type": "code",
   "execution_count": 4,
   "metadata": {
    "ExecuteTime": {
     "end_time": "2020-06-14T17:29:32.505354Z",
     "start_time": "2020-06-14T17:29:32.475664Z"
    }
   },
   "outputs": [],
   "source": [
    "from utils import getCor\n",
    "\n",
    "def blockdiag(C):\n",
    "    M, T, _, _ = C.shape\n",
    "    Z = np.zeros([M, M])\n",
    "    np.fill_diagonal(Z, 1)\n",
    "    return Z[:, None, :, None] * C\n",
    "\n",
    "def getkers(C, depth, vw=1, vu=1, vv=1):\n",
    "    M, T, _, _ = C.shape\n",
    "    C = C.reshape(M*T, M*T)\n",
    "    Cxs = [C]\n",
    "    Cks = []\n",
    "    As = []\n",
    "    Cys = []\n",
    "    Czs = []\n",
    "    Deltazs = []\n",
    "    Cgs = []\n",
    "    Chs = []\n",
    "    Deltaxs = []\n",
    "    \n",
    "    Dxs = [vv/T**2 * np.ones_like(C)]\n",
    "    Dhs = []\n",
    "    Dgs = []\n",
    "    Dzs = []\n",
    "    Dys = []\n",
    "    Dks = []\n",
    "    \n",
    "    for i in range(depth):\n",
    "        Cks += [vu * Cxs[-1]]\n",
    "        A = blockdiag(\n",
    "            sp.special.softmax(Cks[-1].reshape(M, T, M, T), axis=-1)\n",
    "            ).reshape(M*T, M*T)\n",
    "        As += [A]\n",
    "        AI = A + np.eye(A.shape[0])\n",
    "        Cys += [AI @ Cks[-1] @ AI.T]\n",
    "        Czs += [getCor(Cys[-1])]\n",
    "        Deltazs += [np.diag(Cys[-1]) ** -0.5]\n",
    "        Cgs += [vw * Czs[-1]]\n",
    "        Chs += [vw * VReLU(Cgs[-1])]\n",
    "        Cxs += [getCor(Chs[-1] + Czs[-1])]\n",
    "        Deltaxs += [np.diag(Chs[-1] + Czs[-1])**-0.5]\n",
    "        \n",
    "    for i in range(depth):\n",
    "        Dhs += [Deltaxs[-1-i][:, None] * Dxs[-1] * Deltaxs[-1-i][None, :]]\n",
    "        Dgs += [vw * Dhs[-1] * VStep(Cgs[-1-i])]\n",
    "        Dzs += [vw * Dgs[-1] + Dhs[-1]]\n",
    "        Dys += [Deltazs[-1-i][:, None] * Dzs[-1] * Deltazs[-1-i][None, :]]\n",
    "        AI = As[-1-i] + np.eye(As[-1].shape[0])\n",
    "        Dks += [AI.T @ Dys[-1] @ AI]\n",
    "        Dxs += [vu**2 * Dks[-1]]\n",
    "        \n",
    "    # Dgs[0] = Dg^L\n",
    "    # Dgs[L-1] = Dg^1\n",
    "    # Cgs[0] = Cgs^1\n",
    "    # Cgs[L-1] = Cgs^L\n",
    "    # Dxs[0] = Dx^L\n",
    "    # Dxs[L] = Dx^0\n",
    "    # Cxs[0] = Cx^0\n",
    "    # Cxs[L] = Cx^L\n",
    "        \n",
    "    assert len(Cxs) == depth+1\n",
    "    \n",
    "    ntk = np.mean(Cxs[-1].reshape(M, T, M, T), axis=(1,3))\n",
    "    def om(C, D):\n",
    "        return np.einsum('ijkl,ijkl->ik',\n",
    "                         C.reshape(M, T, M, T), \n",
    "                         D.reshape(M, T, M, T))\n",
    "    \n",
    "    for l in range(1, depth+1):\n",
    "        # Dks[-1-l+1] = Dk^l\n",
    "        ntk += om(Dks[-1-l+1], Cxs[l-1])\n",
    "        ntk += om(Dgs[-1-l+1], Czs[l-1])\n",
    "        ntk += om(Dhs[-1-l+1], VReLU(Cgs[l-1]))\n",
    "        \n",
    "    return dict(\n",
    "        Cxs = Cxs,\n",
    "        Cks = Cks,\n",
    "        As = As,\n",
    "        Cys = Cys,\n",
    "        Czs = Czs,\n",
    "        Deltazs = Deltazs,\n",
    "        Cgs = Cgs,\n",
    "        Chs = Chs,\n",
    "        Deltaxs = Deltaxs,\n",
    "        \n",
    "        Dxs = Dxs,\n",
    "        Dhs = Dhs,\n",
    "        Dgs = Dgs,\n",
    "        Dzs = Dzs,\n",
    "        Dys = Dys,\n",
    "        Dks = Dks,\n",
    "        \n",
    "        ntk=ntk\n",
    "    )"
   ]
  },
  {
   "cell_type": "code",
   "execution_count": 5,
   "metadata": {
    "ExecuteTime": {
     "end_time": "2020-06-14T17:29:32.533883Z",
     "start_time": "2020-06-14T17:29:32.506818Z"
    }
   },
   "outputs": [],
   "source": [
    "class Transformer(nn.Module):\n",
    "    def __init__(self, d, d_in, depth, temp=1, vu=1, vw=1, vv=1, vb=0):\n",
    "        super().__init__()\n",
    "        self.d_in = d_in\n",
    "        self.d = d\n",
    "        self.depth = depth\n",
    "        self.temp = temp\n",
    "        self.vu = vu\n",
    "        self.vw = vw\n",
    "        self.vb = vb\n",
    "        \n",
    "        def paramwrap(l):\n",
    "            return nn.ParameterList([nn.Parameter(p) for p in l])\n",
    "        \n",
    "        self.Us = paramwrap([\n",
    "                    torch.randn(d, d) * np.sqrt(vu)\n",
    "                   for _ in range(depth-1)])\n",
    "        self.W1s = paramwrap([torch.randn(d, d) * np.sqrt(vw) \n",
    "                   for _ in range(depth)])\n",
    "        self.W2s = paramwrap([torch.randn(d, d) * np.sqrt(vw) \n",
    "                   for _ in range(depth)])\n",
    "        self.embedding = nn.Parameter(\n",
    "            torch.randn(d_in, d) * np.sqrt(vu))\n",
    "        self.readout = nn.Parameter(\n",
    "            torch.randn(d) * np.sqrt(vv))\n",
    "        self.reset_data()\n",
    "        \n",
    "    def forward(self, seq):\n",
    "        '''\n",
    "        Input:\n",
    "            seq: seqlen x tokensize array, for any seqlen and tokensize\n",
    "        Output:\n",
    "            out: seqlen x self.d_in array, for the same seqlen as input\n",
    "        '''\n",
    "        d = self.d\n",
    "        d_in = self.d_in\n",
    "        self.xs.append(seq)\n",
    "        inseq = seq @ self.embedding / d_in**0.5\n",
    "        inseq.retain_grad()\n",
    "        self.ks.append(inseq)\n",
    "        for l in range(self.depth):\n",
    "            if l > 0:\n",
    "                inseq = inseq @ self.Us[l-1] / d**0.5\n",
    "                inseq.retain_grad()\n",
    "                self.ks.append(inseq)\n",
    "            # self attn\n",
    "            gram = inseq @ inseq.T / inseq.shape[1]\n",
    "            weights = torch.softmax(gram / self.temp, dim=1)\n",
    "            self.As.append(weights)\n",
    "            # weights @ inseq gives vectors returned by attention\n",
    "            # inseq + weights @ inseq is the residual connection\n",
    "            post_attn = self.layernorm(inseq + weights @ inseq)\n",
    "            post_attn.retain_grad()\n",
    "            self.zs.append(post_attn)\n",
    "            # self.post_attn = post_attn\n",
    "            \n",
    "            # FF\n",
    "            inseq = post_attn @ self.W1s[l] / d**0.5\n",
    "            inseq.retain_grad()\n",
    "            self.gs.append(inseq)\n",
    "            inseq = torch.relu(inseq) @ self.W2s[l] / d**0.5\n",
    "            inseq.retain_grad()\n",
    "            self.hs.append(inseq)\n",
    "            inseq = self.layernorm(inseq + post_attn)\n",
    "            inseq.retain_grad()\n",
    "            self.xs.append(inseq)\n",
    "        return (inseq @ self.readout / d**0.5).mean()\n",
    "    \n",
    "    def reset_data(self):\n",
    "        self.xs = []\n",
    "        self.ks = []\n",
    "        self.ys = []\n",
    "        self.zs = []\n",
    "        self.gs = []\n",
    "        self.hs = []\n",
    "        self.As = []\n",
    "        \n",
    "    def layernorm(self, seq):\n",
    "        '''inplace layernorm\n",
    "        Input:\n",
    "            seq: seqlen x tokensize array, for any seqlen and tokensize\n",
    "        Output:\n",
    "            out: seqlen x tokensize array\n",
    "                Means and standard deviation computed over the `tokensize` dimension\n",
    "        '''\n",
    "        seq = seq - torch.mean(seq, dim=1, keepdim=True)\n",
    "        seq = seq / torch.std(seq, dim=1, keepdim=True)\n",
    "        return seq"
   ]
  },
  {
   "cell_type": "markdown",
   "metadata": {
    "heading_collapsed": true
   },
   "source": [
    "# Infinite-Width Neural Network"
   ]
  },
  {
   "cell_type": "markdown",
   "metadata": {
    "hidden": true
   },
   "source": [
    "<img src=\"https://raw.githubusercontent.com/thegregyang/NTK4A/master/images/transformerNTK_notation.png\" width=600 />"
   ]
  },
  {
   "cell_type": "markdown",
   "metadata": {
    "hidden": true
   },
   "source": [
    "<img src=\"https://raw.githubusercontent.com/thegregyang/NTK4A/master/images/transformerNTK.png\" width=600 />"
   ]
  },
  {
   "cell_type": "markdown",
   "metadata": {},
   "source": [
    "# Theory vs Simulation"
   ]
  },
  {
   "cell_type": "markdown",
   "metadata": {},
   "source": [
    "We verify that as width increases, the empirical finite-width NTK converges to the theoretical infinite-width NTK."
   ]
  },
  {
   "cell_type": "code",
   "execution_count": 6,
   "metadata": {
    "ExecuteTime": {
     "end_time": "2020-06-14T17:29:32.557828Z",
     "start_time": "2020-06-14T17:29:32.535175Z"
    }
   },
   "outputs": [],
   "source": [
    "def NTK_theory_vs_sim(seqs, infntk,\n",
    "                    depth,\n",
    "                    log2widthmin=6, log2widthmax=14, nseeds=10):\n",
    "    if isinstance(seqs, np.ndarray):\n",
    "        seqs = torch.from_numpy(seqs).float()\n",
    "    M = seqs.shape[0]\n",
    "    inputdim = seqs.shape[-1]\n",
    "    infntknorm = np.linalg.norm(infntk)\n",
    "    frobs = []\n",
    "    widths = 2**np.arange(log2widthmin, log2widthmax)\n",
    "\n",
    "    for width, seed in tqdm(list(product(widths, range(nseeds)))):\n",
    "        torch.manual_seed(seed)\n",
    "        trsfmr = Transformer(depth=depth, d_in=inputdim, d=width)\n",
    "        grads = []\n",
    "        for seq in seqs:\n",
    "            trsfmr.zero_grad()\n",
    "            trsfmr.reset_data()\n",
    "            out = trsfmr(seq)\n",
    "            out.backward()\n",
    "            grads.append(clone_grads(trsfmr))\n",
    "\n",
    "        finntk = torch.zeros(M, M)\n",
    "        for i in range(M):\n",
    "            for j in range(i+1):\n",
    "                finntk[i, j] = finntk[j, i] = paramdot(grads[i], grads[j])\n",
    "\n",
    "        frobs.append(dict(\n",
    "            width=width,\n",
    "            relfrob=np.linalg.norm(finntk-infntk) / infntknorm\n",
    "        ))\n",
    "    return pd.DataFrame(frobs)"
   ]
  },
  {
   "cell_type": "markdown",
   "metadata": {},
   "source": [
    "## Data"
   ]
  },
  {
   "cell_type": "code",
   "execution_count": 7,
   "metadata": {
    "ExecuteTime": {
     "end_time": "2020-06-14T17:29:33.475096Z",
     "start_time": "2020-06-14T17:29:32.559077Z"
    }
   },
   "outputs": [
    {
     "name": "stdout",
     "output_type": "stream",
     "text": [
      "Files already downloaded and verified\n"
     ]
    }
   ],
   "source": [
    "transform = transforms.Compose(\n",
    "    [transforms.ToTensor(),\n",
    "     transforms.Normalize((0.5, 0.5, 0.5), (0.5, 0.5, 0.5))])\n",
    "\n",
    "trainset = torchvision.datasets.CIFAR10(root='./data', train=True,\n",
    "                                        download=True, transform=transform)"
   ]
  },
  {
   "cell_type": "markdown",
   "metadata": {},
   "source": [
    "We treat the first 5 pixels (3 channels each) as the \"tokens\" in a sequence of 5. We use the first 2 images from CIFAR10 for our 2 sequences."
   ]
  },
  {
   "cell_type": "code",
   "execution_count": 8,
   "metadata": {
    "ExecuteTime": {
     "end_time": "2020-06-14T17:29:43.223757Z",
     "start_time": "2020-06-14T17:29:33.476609Z"
    }
   },
   "outputs": [],
   "source": [
    "M = 2\n",
    "T = 5\n",
    "\n",
    "inps = torch.stack([v[0].reshape(3, -1)[:, :T].T for i, v in enumerate(trainset)\n",
    "                 if i < M]).numpy()\n",
    "inpcov = np.einsum('ais,bjs->aibj', inps, inps) / inps.shape[-1]"
   ]
  },
  {
   "cell_type": "markdown",
   "metadata": {},
   "source": [
    "## How much does finite-width NTK deviate from the infinite-width NTK?"
   ]
  },
  {
   "cell_type": "code",
   "execution_count": 9,
   "metadata": {
    "ExecuteTime": {
     "end_time": "2020-06-14T17:35:41.718637Z",
     "start_time": "2020-06-14T17:29:43.225681Z"
    },
    "scrolled": true
   },
   "outputs": [
    {
     "name": "stderr",
     "output_type": "stream",
     "text": [
      "100%|██████████| 800/800 [05:58<00:00,  2.23it/s] \n"
     ]
    }
   ],
   "source": [
    "depth = 1\n",
    "kers = getkers(inpcov, depth)\n",
    "frob_df = NTK_theory_vs_sim(inps, kers['ntk'], depth=depth,\n",
    "                            log2widthmax=14, nseeds=100)"
   ]
  },
  {
   "cell_type": "markdown",
   "metadata": {},
   "source": [
    "We measured the relative Frobenius norm of the finite-width deviation = $\\|\\Theta - \\mathring \\Theta\\|_F / \\|\\mathring \\Theta\\|_F$, where $\\Theta$ and $\\mathring \\Theta$ are resp. the finite (empirical) and infinite-width (theoretical) NTKs."
   ]
  },
  {
   "cell_type": "code",
   "execution_count": 10,
   "metadata": {
    "ExecuteTime": {
     "end_time": "2020-06-14T17:35:42.983305Z",
     "start_time": "2020-06-14T17:35:41.723000Z"
    }
   },
   "outputs": [
    {
     "data": {
      "image/png": "[encoded data removed]",
      "text/plain": [
       "<Figure size 432x288 with 1 Axes>"
      ]
     },
     "metadata": {},
     "output_type": "display_data"
    }
   ],
   "source": [
    "sns.lineplot(data=frob_df, x='width', y='relfrob')\n",
    "widths = frob_df.width.unique()\n",
    "plt.plot(widths, np.array(widths, dtype='float')**-0.5, '--', label=u'${width}^{-1/2}$')\n",
    "plt.ylabel(u'Relative Frob. Norm')\n",
    "plt.loglog()\n",
    "plt.legend()\n",
    "_ = plt.title(u'Transformer NTK\\nDeviation from theory drops like $width^{-1/2}$')"
   ]
  },
  {
   "cell_type": "code",
   "execution_count": 11,
   "metadata": {
    "ExecuteTime": {
     "end_time": "2020-06-14T17:35:43.003447Z",
     "start_time": "2020-06-14T17:35:42.985229Z"
    }
   },
   "outputs": [],
   "source": [
    "frob_df.to_pickle('transformer_ntk.frob')"
   ]
  }
 ],
 "metadata": {
  "kernelspec": {
   "display_name": "Python 3",
   "language": "python",
   "name": "python3"
  },
  "language_info": {
   "codemirror_mode": {
    "name": "ipython",
    "version": 3
   },
   "file_extension": ".py",
   "mimetype": "text/x-python",
   "name": "python",
   "nbconvert_exporter": "python",
   "pygments_lexer": "ipython3",
   "version": "3.7.2"
  }
 },
 "nbformat": 4,
 "nbformat_minor": 4
}
